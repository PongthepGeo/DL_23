{
 "cells": [
  {
   "cell_type": "markdown",
   "metadata": {},
   "source": [
    "<img src=\"images/deeplearningwizard_web_logo.png\" alt=\"deeplearningwizard\" style=\"width: 100px;\"/>\n",
    "\n",
    "# 6. Linear Regression with PyTorch\n",
    "## 1. About Linear Regression\n"
   ]
  },
  {
   "cell_type": "markdown",
   "metadata": {},
   "source": [
    "### 1.1 Simple Linear Regression Basics\n",
    "- Allows us to understand **relationship** between two **continuous variables**\n",
    "- Example\n",
    "    - x: independent variable\n",
    "        - weight\n",
    "    - y: dependent variable\n",
    "        - height\n",
    "- $y = \\alpha x + \\beta$"
   ]
  },
  {
   "cell_type": "markdown",
   "metadata": {},
   "source": [
    "### 1.2 Example of simple linear regression"
   ]
  },
  {
   "cell_type": "code",
   "execution_count": 1,
   "metadata": {},
   "outputs": [
    {
     "data": {
      "image/png": "[encoded data removed]",
      "text/plain": [
       "<Figure size 640x480 with 1 Axes>"
      ]
     },
     "metadata": {},
     "output_type": "display_data"
    }
   ],
   "source": [
    "import numpy as np\n",
    "import matplotlib.pyplot as plt\n",
    "%matplotlib inline\n",
    "\n",
    "np.random.seed(1)\n",
    "n = 50\n",
    "x = np.random.randn(n)\n",
    "y = x * np.random.randn(n)\n",
    "\n",
    "colors = np.random.rand(n)\n",
    "plt.plot(np.unique(x), np.poly1d(np.polyfit(x, y, 1))(np.unique(x)))\n",
    "\n",
    "plt.scatter(x, y, c=colors, alpha=0.5)\n",
    "plt.show()"
   ]
  },
  {
   "cell_type": "markdown",
   "metadata": {},
   "source": [
    "### 1.3 Aim of Linear Regression\n",
    "- Minimize the distance between the points and the line ($y = \\alpha x + \\beta$)\n",
    "- Adjusting\n",
    "    - Coefficient: $\\alpha$\n",
    "    - Bias/intercept: $\\beta$\n",
    "\n",
    "## 2. Building a Linear Regression Model with PyTorch\n",
    "\n",
    "### 2.1 Example\n",
    "- Coefficient: $\\alpha = 2$\n",
    "- Bias/intercept: $\\beta = 1$\n",
    "- Equation: $y = 2x + 1$"
   ]
  },
  {
   "cell_type": "markdown",
   "metadata": {},
   "source": [
    "### 2.2 Building a Toy Dataset"
   ]
  },
  {
   "cell_type": "code",
   "execution_count": 2,
   "metadata": {},
   "outputs": [],
   "source": [
    "x_values = [i for i in range(11)]"
   ]
  },
  {
   "cell_type": "code",
   "execution_count": 3,
   "metadata": {},
   "outputs": [
    {
     "data": {
      "text/plain": [
       "[0, 1, 2, 3, 4, 5, 6, 7, 8, 9, 10]"
      ]
     },
     "execution_count": 3,
     "metadata": {},
     "output_type": "execute_result"
    }
   ],
   "source": [
    "x_values"
   ]
  },
  {
   "cell_type": "code",
   "execution_count": 4,
   "metadata": {},
   "outputs": [
    {
     "data": {
      "text/plain": [
       "(11,)"
      ]
     },
     "execution_count": 4,
     "metadata": {},
     "output_type": "execute_result"
    }
   ],
   "source": [
    "# Convert to numpy\n",
    "x_train = np.array(x_values, dtype=np.float32)\n",
    "x_train.shape"
   ]
  },
  {
   "cell_type": "code",
   "execution_count": 5,
   "metadata": {},
   "outputs": [
    {
     "data": {
      "text/plain": [
       "(11, 1)"
      ]
     },
     "execution_count": 5,
     "metadata": {},
     "output_type": "execute_result"
    }
   ],
   "source": [
    "# IMPORTANT: 2D required\n",
    "x_train = x_train.reshape(-1, 1)\n",
    "x_train.shape"
   ]
  },
  {
   "cell_type": "markdown",
   "metadata": {},
   "source": [
    "$y = 2x + 1$"
   ]
  },
  {
   "cell_type": "code",
   "execution_count": 6,
   "metadata": {},
   "outputs": [],
   "source": [
    "y_values = [2*i + 1 for i in x_values]"
   ]
  },
  {
   "cell_type": "code",
   "execution_count": 7,
   "metadata": {},
   "outputs": [
    {
     "data": {
      "text/plain": [
       "[1, 3, 5, 7, 9, 11, 13, 15, 17, 19, 21]"
      ]
     },
     "execution_count": 7,
     "metadata": {},
     "output_type": "execute_result"
    }
   ],
   "source": [
    "y_values"
   ]
  },
  {
   "cell_type": "code",
   "execution_count": 8,
   "metadata": {},
   "outputs": [],
   "source": [
    "# In case you're weak in list iterators...\n",
    "y_values = []\n",
    "for i in x_values:\n",
    "    result = 2*i + 1\n",
    "    y_values.append(result) "
   ]
  },
  {
   "cell_type": "code",
   "execution_count": 9,
   "metadata": {},
   "outputs": [
    {
     "data": {
      "text/plain": [
       "[1, 3, 5, 7, 9, 11, 13, 15, 17, 19, 21]"
      ]
     },
     "execution_count": 9,
     "metadata": {},
     "output_type": "execute_result"
    }
   ],
   "source": [
    "y_values"
   ]
  },
  {
   "cell_type": "code",
   "execution_count": 10,
   "metadata": {},
   "outputs": [
    {
     "data": {
      "text/plain": [
       "(11,)"
      ]
     },
     "execution_count": 10,
     "metadata": {},
     "output_type": "execute_result"
    }
   ],
   "source": [
    "y_train = np.array(y_values, dtype=np.float32)\n",
    "y_train.shape"
   ]
  },
  {
   "cell_type": "code",
   "execution_count": 11,
   "metadata": {},
   "outputs": [
    {
     "data": {
      "text/plain": [
       "(11, 1)"
      ]
     },
     "execution_count": 11,
     "metadata": {},
     "output_type": "execute_result"
    }
   ],
   "source": [
    "# IMPORTANT: 2D required\n",
    "y_train = y_train.reshape(-1, 1)\n",
    "y_train.shape"
   ]
  },
  {
   "cell_type": "markdown",
   "metadata": {},
   "source": [
    "### 2.3 Building Model"
   ]
  },
  {
   "cell_type": "markdown",
   "metadata": {},
   "source": [
    "**Critical Imports**"
   ]
  },
  {
   "cell_type": "code",
   "execution_count": 12,
   "metadata": {},
   "outputs": [
    {
     "name": "stderr",
     "output_type": "stream",
     "text": [
      "/home/pongthep_/main/Chula/2023/DL_23/vir_en/DL_23/lib/python3.10/site-packages/tqdm/auto.py:22: TqdmWarning: IProgress not found. Please update jupyter and ipywidgets. See https://ipywidgets.readthedocs.io/en/stable/user_install.html\n",
      "  from .autonotebook import tqdm as notebook_tqdm\n"
     ]
    }
   ],
   "source": [
    "import torch\n",
    "import torch.nn as nn"
   ]
  },
  {
   "cell_type": "markdown",
   "metadata": {},
   "source": [
    "**Create Model**\n",
    "1. Linear model\n",
    "    - True Equation: $y = 2x + 1$\n",
    "2. Forward\n",
    "    - Example\n",
    "        - Input $x = 1 $\n",
    "        - Output $\\hat y = ?$"
   ]
  },
  {
   "cell_type": "code",
   "execution_count": 13,
   "metadata": {},
   "outputs": [],
   "source": [
    "# Create class\n",
    "class LinearRegressionModel(nn.Module):\n",
    "    def __init__(self, input_dim, output_dim):\n",
    "        super(LinearRegressionModel, self).__init__()\n",
    "        self.linear = nn.Linear(input_dim, output_dim)  \n",
    "    \n",
    "    def forward(self, x):\n",
    "        out = self.linear(x)\n",
    "        return out"
   ]
  },
  {
   "cell_type": "markdown",
   "metadata": {},
   "source": [
    "**Instantiate Model Class**\n",
    "- input: [0, 1, 2, 3, 4, 5, 6, 7, 8, 9, 10]\n",
    "- desired output: [1, 3, 5, 7, 9, 11, 13, 15, 17, 19, 21]"
   ]
  },
  {
   "cell_type": "code",
   "execution_count": 14,
   "metadata": {},
   "outputs": [],
   "source": [
    "input_dim = 1\n",
    "output_dim = 1\n",
    "\n",
    "model = LinearRegressionModel(input_dim, output_dim)"
   ]
  },
  {
   "cell_type": "markdown",
   "metadata": {},
   "source": [
    "**Instantiate Loss Class**\n",
    "- MSE Loss: Mean Squared Error\n",
    "- $MSE = \\frac{1}{n} \\sum_{i=1}^n(\\hat y_i - y_i)$\n",
    "    - $\\hat y$: prediction\n",
    "    - $y$: true value"
   ]
  },
  {
   "cell_type": "code",
   "execution_count": 15,
   "metadata": {},
   "outputs": [],
   "source": [
    "criterion = nn.MSELoss()"
   ]
  },
  {
   "cell_type": "markdown",
   "metadata": {},
   "source": [
    "**Instantiate Optimizer Class**\n",
    "- Simplified equation\n",
    "    - $\\theta = \\theta - \\eta \\cdot \\nabla_\\theta $\n",
    "        - $\\theta$: parameters (our variables)\n",
    "        - $\\eta$: learning rate (how fast we want to learn)\n",
    "        - $\\nabla_\\theta$: parameters' gradients\n",
    "- Even simplier equation\n",
    "    - `parameters = parameters - learning_rate * parameters_gradients`\n",
    "        - parameters: $\\alpha$ and $\\beta$ in $ y = \\alpha x + \\beta$\n",
    "        - desired parameters: $\\alpha = 2$ and $\\beta = 1$ in $ y = 2x + 1$"
   ]
  },
  {
   "cell_type": "code",
   "execution_count": 16,
   "metadata": {},
   "outputs": [],
   "source": [
    "learning_rate = 0.01\n",
    "\n",
    "optimizer = torch.optim.SGD(model.parameters(), lr=learning_rate)"
   ]
  },
  {
   "cell_type": "markdown",
   "metadata": {},
   "source": [
    "**Train Model**\n",
    "- 1 epoch: going through the whole x_train data once\n",
    "    - 100 epochs: \n",
    "        - 100x mapping `x_train = [0, 1, 2, 3, 4, 5, 6, 7, 8, 9, 10]`\n",
    "        \n",
    "- Process \n",
    "    1. Convert inputs/labels to tensors with gradients\n",
    "    2. Clear gradient buffets\n",
    "    3. Get output given inputs \n",
    "    4. Get loss\n",
    "    5. Get gradients w.r.t. parameters\n",
    "    6. Update parameters using gradients\n",
    "        - `parameters = parameters - learning_rate * parameters_gradients`\n",
    "    7. REPEAT"
   ]
  },
  {
   "cell_type": "code",
   "execution_count": 17,
   "metadata": {},
   "outputs": [],
   "source": [
    "epochs = 100"
   ]
  },
  {
   "cell_type": "code",
   "execution_count": 18,
   "metadata": {
    "scrolled": true
   },
   "outputs": [
    {
     "name": "stdout",
     "output_type": "stream",
     "text": [
      "epoch 1, loss 68.53142547607422\n",
      "epoch 2, loss 6.146223545074463\n",
      "epoch 3, loss 1.051450252532959\n",
      "epoch 4, loss 0.6297416687011719\n",
      "epoch 5, loss 0.5892696976661682\n",
      "epoch 6, loss 0.5799620747566223\n",
      "epoch 7, loss 0.5732631683349609\n",
      "epoch 8, loss 0.5668436288833618\n",
      "epoch 9, loss 0.5605117678642273\n",
      "epoch 10, loss 0.5542529821395874\n",
      "epoch 11, loss 0.5480636358261108\n",
      "epoch 12, loss 0.5419436693191528\n",
      "epoch 13, loss 0.5358918309211731\n",
      "epoch 14, loss 0.529907763004303\n",
      "epoch 15, loss 0.5239902138710022\n",
      "epoch 16, loss 0.5181387066841125\n",
      "epoch 17, loss 0.5123526453971863\n",
      "epoch 18, loss 0.50663161277771\n",
      "epoch 19, loss 0.500973641872406\n",
      "epoch 20, loss 0.49537965655326843\n",
      "epoch 21, loss 0.4898478388786316\n",
      "epoch 22, loss 0.4843779504299164\n",
      "epoch 23, loss 0.47896912693977356\n",
      "epoch 24, loss 0.47362029552459717\n",
      "epoch 25, loss 0.46833133697509766\n",
      "epoch 26, loss 0.4631013870239258\n",
      "epoch 27, loss 0.4579300880432129\n",
      "epoch 28, loss 0.4528164565563202\n",
      "epoch 29, loss 0.44776037335395813\n",
      "epoch 30, loss 0.44275999069213867\n",
      "epoch 31, loss 0.43781566619873047\n",
      "epoch 32, loss 0.43292665481567383\n",
      "epoch 33, loss 0.42809247970581055\n",
      "epoch 34, loss 0.4233119785785675\n",
      "epoch 35, loss 0.41858500242233276\n",
      "epoch 36, loss 0.41391056776046753\n",
      "epoch 37, loss 0.40928858518600464\n",
      "epoch 38, loss 0.4047181010246277\n",
      "epoch 39, loss 0.40019845962524414\n",
      "epoch 40, loss 0.3957293629646301\n",
      "epoch 41, loss 0.39131060242652893\n",
      "epoch 42, loss 0.3869410753250122\n",
      "epoch 43, loss 0.3826201260089874\n",
      "epoch 44, loss 0.37834757566452026\n",
      "epoch 45, loss 0.3741227090358734\n",
      "epoch 46, loss 0.3699444830417633\n",
      "epoch 47, loss 0.36581382155418396\n",
      "epoch 48, loss 0.3617284595966339\n",
      "epoch 49, loss 0.35768944025039673\n",
      "epoch 50, loss 0.35369497537612915\n",
      "epoch 51, loss 0.34974539279937744\n",
      "epoch 52, loss 0.34583964943885803\n",
      "epoch 53, loss 0.34197795391082764\n",
      "epoch 54, loss 0.3381589353084564\n",
      "epoch 55, loss 0.3343830704689026\n",
      "epoch 56, loss 0.33064883947372437\n",
      "epoch 57, loss 0.32695654034614563\n",
      "epoch 58, loss 0.32330551743507385\n",
      "epoch 59, loss 0.31969520449638367\n",
      "epoch 60, loss 0.31612521409988403\n",
      "epoch 61, loss 0.31259527802467346\n",
      "epoch 62, loss 0.30910441279411316\n",
      "epoch 63, loss 0.3056527376174927\n",
      "epoch 64, loss 0.30223944783210754\n",
      "epoch 65, loss 0.2988644540309906\n",
      "epoch 66, loss 0.2955271005630493\n",
      "epoch 67, loss 0.2922267019748688\n",
      "epoch 68, loss 0.28896358609199524\n",
      "epoch 69, loss 0.2857368290424347\n",
      "epoch 70, loss 0.28254586458206177\n",
      "epoch 71, loss 0.27939075231552124\n",
      "epoch 72, loss 0.2762709856033325\n",
      "epoch 73, loss 0.27318570017814636\n",
      "epoch 74, loss 0.27013543248176575\n",
      "epoch 75, loss 0.2671189308166504\n",
      "epoch 76, loss 0.2641357183456421\n",
      "epoch 77, loss 0.2611863315105438\n",
      "epoch 78, loss 0.2582697570323944\n",
      "epoch 79, loss 0.25538551807403564\n",
      "epoch 80, loss 0.252533882856369\n",
      "epoch 81, loss 0.24971367418766022\n",
      "epoch 82, loss 0.24692511558532715\n",
      "epoch 83, loss 0.24416793882846832\n",
      "epoch 84, loss 0.2414415329694748\n",
      "epoch 85, loss 0.2387450635433197\n",
      "epoch 86, loss 0.2360791712999344\n",
      "epoch 87, loss 0.23344279825687408\n",
      "epoch 88, loss 0.2308361977338791\n",
      "epoch 89, loss 0.22825832664966583\n",
      "epoch 90, loss 0.22570949792861938\n",
      "epoch 91, loss 0.2231888324022293\n",
      "epoch 92, loss 0.22069664299488068\n",
      "epoch 93, loss 0.21823233366012573\n",
      "epoch 94, loss 0.21579517424106598\n",
      "epoch 95, loss 0.21338538825511932\n",
      "epoch 96, loss 0.21100278198719025\n",
      "epoch 97, loss 0.20864644646644592\n",
      "epoch 98, loss 0.20631623268127441\n",
      "epoch 99, loss 0.20401254296302795\n",
      "epoch 100, loss 0.20173434913158417\n"
     ]
    }
   ],
   "source": [
    "for epoch in range(epochs):\n",
    "    epoch += 1\n",
    "    # Convert numpy array to torch Variable\n",
    "    inputs = torch.from_numpy(x_train).requires_grad_()\n",
    "    labels = torch.from_numpy(y_train)\n",
    "\n",
    "    # Clear gradients w.r.t. parameters\n",
    "    optimizer.zero_grad() \n",
    "    \n",
    "    # Forward to get output\n",
    "    outputs = model(inputs)\n",
    "    \n",
    "    # Calculate Loss\n",
    "    loss = criterion(outputs, labels)\n",
    "    \n",
    "    # Getting gradients w.r.t. parameters\n",
    "    loss.backward()\n",
    "    \n",
    "    # Updating parameters\n",
    "    optimizer.step()\n",
    "    \n",
    "    print('epoch {}, loss {}'.format(epoch, loss.item()))"
   ]
  },
  {
   "cell_type": "markdown",
   "metadata": {},
   "source": [
    "**Compare Data**"
   ]
  },
  {
   "cell_type": "code",
   "execution_count": 19,
   "metadata": {},
   "outputs": [
    {
     "data": {
      "text/plain": [
       "array([[ 0.16449288],\n",
       "       [ 2.2848134 ],\n",
       "       [ 4.405134  ],\n",
       "       [ 6.525455  ],\n",
       "       [ 8.645775  ],\n",
       "       [10.766095  ],\n",
       "       [12.886416  ],\n",
       "       [15.006737  ],\n",
       "       [17.127058  ],\n",
       "       [19.24738   ],\n",
       "       [21.367699  ]], dtype=float32)"
      ]
     },
     "execution_count": 19,
     "metadata": {},
     "output_type": "execute_result"
    }
   ],
   "source": [
    "# Purely inference\n",
    "predicted = model(torch.from_numpy(x_train).requires_grad_()).data.numpy()\n",
    "predicted"
   ]
  },
  {
   "cell_type": "code",
   "execution_count": 20,
   "metadata": {},
   "outputs": [
    {
     "data": {
      "text/plain": [
       "array([[ 1.],\n",
       "       [ 3.],\n",
       "       [ 5.],\n",
       "       [ 7.],\n",
       "       [ 9.],\n",
       "       [11.],\n",
       "       [13.],\n",
       "       [15.],\n",
       "       [17.],\n",
       "       [19.],\n",
       "       [21.]], dtype=float32)"
      ]
     },
     "execution_count": 20,
     "metadata": {},
     "output_type": "execute_result"
    }
   ],
   "source": [
    "# y = 2x + 1 \n",
    "y_train"
   ]
  },
  {
   "cell_type": "markdown",
   "metadata": {},
   "source": [
    "**Plot Graph**"
   ]
  },
  {
   "cell_type": "code",
   "execution_count": 21,
   "metadata": {},
   "outputs": [
    {
     "data": {
      "image/png": "[encoded data removed]",
      "text/plain": [
       "<Figure size 640x480 with 1 Axes>"
      ]
     },
     "metadata": {},
     "output_type": "display_data"
    }
   ],
   "source": [
    "# Clear figure\n",
    "plt.clf()\n",
    "\n",
    "# Get predictions\n",
    "predicted = model(torch.from_numpy(x_train).requires_grad_()).data.numpy()\n",
    "\n",
    "# Plot true data\n",
    "plt.plot(x_train, y_train, 'go', label='True data', alpha=0.5)\n",
    "\n",
    "# Plot predictions\n",
    "plt.plot(x_train, predicted, '--', label='Predictions', alpha=0.5)\n",
    "\n",
    "# Legend and plot\n",
    "plt.legend(loc='best')\n",
    "plt.show()"
   ]
  },
  {
   "cell_type": "markdown",
   "metadata": {},
   "source": [
    "**Save Model**"
   ]
  },
  {
   "cell_type": "code",
   "execution_count": 22,
   "metadata": {},
   "outputs": [],
   "source": [
    "save_model = False\n",
    "if save_model is True:\n",
    "    # Saves only parameters\n",
    "    # alpha & beta\n",
    "    torch.save(model.state_dict(), 'awesome_model.pkl')"
   ]
  },
  {
   "cell_type": "markdown",
   "metadata": {},
   "source": [
    "**Load Model**"
   ]
  },
  {
   "cell_type": "code",
   "execution_count": 23,
   "metadata": {},
   "outputs": [],
   "source": [
    "load_model = False\n",
    "if load_model is True:\n",
    "    model.load_state_dict(torch.load('awesome_model.pkl'))"
   ]
  },
  {
   "cell_type": "markdown",
   "metadata": {},
   "source": [
    "## 3. Building a Linear Regression Model with PyTorch (GPU)\n",
    "\n"
   ]
  },
  {
   "cell_type": "markdown",
   "metadata": {},
   "source": [
    "**CPU Summary**"
   ]
  },
  {
   "cell_type": "code",
   "execution_count": 24,
   "metadata": {},
   "outputs": [],
   "source": [
    "import torch\n",
    "import torch.nn as nn\n",
    "\n",
    "'''\n",
    "STEP 1: CREATE MODEL CLASS\n",
    "'''\n",
    "class LinearRegressionModel(nn.Module):\n",
    "    def __init__(self, input_dim, output_dim):\n",
    "        super(LinearRegressionModel, self).__init__()\n",
    "        self.linear = nn.Linear(input_dim, output_dim)  \n",
    "    \n",
    "    def forward(self, x):\n",
    "        out = self.linear(x)\n",
    "        return out\n",
    "\n",
    "'''\n",
    "STEP 2: INSTANTIATE MODEL CLASS\n",
    "'''\n",
    "input_dim = 1\n",
    "output_dim = 1\n",
    "\n",
    "model = LinearRegressionModel(input_dim, output_dim)\n",
    "\n",
    "'''\n",
    "STEP 3: INSTANTIATE LOSS CLASS\n",
    "'''\n",
    "\n",
    "criterion = nn.MSELoss()\n",
    "\n",
    "'''\n",
    "STEP 4: INSTANTIATE OPTIMIZER CLASS\n",
    "'''\n",
    "\n",
    "learning_rate = 0.01\n",
    "\n",
    "optimizer = torch.optim.SGD(model.parameters(), lr=learning_rate)\n",
    "\n",
    "'''\n",
    "STEP 5: TRAIN THE MODEL\n",
    "'''\n",
    "epochs = 100\n",
    "for epoch in range(epochs):\n",
    "    epoch += 1\n",
    "    # Convert numpy array to torch Variable\n",
    "    inputs = torch.from_numpy(x_train).requires_grad_()\n",
    "    labels = torch.from_numpy(y_train)\n",
    "\n",
    "    # Clear gradients w.r.t. parameters\n",
    "    optimizer.zero_grad() \n",
    "    \n",
    "    # Forward to get output\n",
    "    outputs = model(inputs)\n",
    "    \n",
    "    # Calculate Loss\n",
    "    loss = criterion(outputs, labels)\n",
    "    \n",
    "    # Getting gradients w.r.t. parameters\n",
    "    loss.backward()\n",
    "    \n",
    "    # Updating parameters\n",
    "    optimizer.step()"
   ]
  },
  {
   "cell_type": "markdown",
   "metadata": {},
   "source": [
    "GPU: 2 things must be on GPU\n",
    "- `model`\n",
    "- `tensors with gradients`"
   ]
  },
  {
   "cell_type": "code",
   "execution_count": 25,
   "metadata": {},
   "outputs": [
    {
     "name": "stdout",
     "output_type": "stream",
     "text": [
      "epoch 1, loss 64.0993423461914\n",
      "epoch 2, loss 5.401559352874756\n",
      "epoch 3, loss 0.6118358373641968\n",
      "epoch 4, loss 0.21924158930778503\n",
      "epoch 5, loss 0.18532785773277283\n",
      "epoch 6, loss 0.18069171905517578\n",
      "epoch 7, loss 0.1784646064043045\n",
      "epoch 8, loss 0.17645463347434998\n",
      "epoch 9, loss 0.17448273301124573\n",
      "epoch 10, loss 0.17253436148166656\n",
      "epoch 11, loss 0.1706075668334961\n",
      "epoch 12, loss 0.16870243847370148\n",
      "epoch 13, loss 0.16681863367557526\n",
      "epoch 14, loss 0.1649557203054428\n",
      "epoch 15, loss 0.16311366856098175\n",
      "epoch 16, loss 0.161292165517807\n",
      "epoch 17, loss 0.15949106216430664\n",
      "epoch 18, loss 0.15771012008190155\n",
      "epoch 19, loss 0.15594887733459473\n",
      "epoch 20, loss 0.15420764684677124\n",
      "epoch 21, loss 0.1524854451417923\n",
      "epoch 22, loss 0.15078270435333252\n",
      "epoch 23, loss 0.14909890294075012\n",
      "epoch 24, loss 0.14743387699127197\n",
      "epoch 25, loss 0.1457875519990921\n",
      "epoch 26, loss 0.14415967464447021\n",
      "epoch 27, loss 0.1425497978925705\n",
      "epoch 28, loss 0.14095792174339294\n",
      "epoch 29, loss 0.13938383758068085\n",
      "epoch 30, loss 0.13782735168933868\n",
      "epoch 31, loss 0.13628840446472168\n",
      "epoch 32, loss 0.13476641476154327\n",
      "epoch 33, loss 0.13326145708560944\n",
      "epoch 34, loss 0.1317734718322754\n",
      "epoch 35, loss 0.13030190765857697\n",
      "epoch 36, loss 0.1288468837738037\n",
      "epoch 37, loss 0.1274079829454422\n",
      "epoch 38, loss 0.1259852647781372\n",
      "epoch 39, loss 0.12457842379808426\n",
      "epoch 40, loss 0.12318722158670425\n",
      "epoch 41, loss 0.12181161344051361\n",
      "epoch 42, loss 0.12045139819383621\n",
      "epoch 43, loss 0.11910642683506012\n",
      "epoch 44, loss 0.11777623742818832\n",
      "epoch 45, loss 0.11646109819412231\n",
      "epoch 46, loss 0.11516057699918747\n",
      "epoch 47, loss 0.11387461423873901\n",
      "epoch 48, loss 0.11260297149419785\n",
      "epoch 49, loss 0.11134558916091919\n",
      "epoch 50, loss 0.11010222136974335\n",
      "epoch 51, loss 0.1088726744055748\n",
      "epoch 52, loss 0.10765690356492996\n",
      "epoch 53, loss 0.10645478963851929\n",
      "epoch 54, loss 0.1052660346031189\n",
      "epoch 55, loss 0.10409051924943924\n",
      "epoch 56, loss 0.10292813181877136\n",
      "epoch 57, loss 0.1017787903547287\n",
      "epoch 58, loss 0.100642129778862\n",
      "epoch 59, loss 0.099518321454525\n",
      "epoch 60, loss 0.09840697795152664\n",
      "epoch 61, loss 0.09730815887451172\n",
      "epoch 62, loss 0.09622149169445038\n",
      "epoch 63, loss 0.09514698386192322\n",
      "epoch 64, loss 0.0940844714641571\n",
      "epoch 65, loss 0.09303393214941025\n",
      "epoch 66, loss 0.0919950008392334\n",
      "epoch 67, loss 0.09096773713827133\n",
      "epoch 68, loss 0.08995186537504196\n",
      "epoch 69, loss 0.08894741535186768\n",
      "epoch 70, loss 0.08795413374900818\n",
      "epoch 71, loss 0.0869719609618187\n",
      "epoch 72, loss 0.0860007032752037\n",
      "epoch 73, loss 0.08504045754671097\n",
      "epoch 74, loss 0.08409077674150467\n",
      "epoch 75, loss 0.08315183222293854\n",
      "epoch 76, loss 0.08222322911024094\n",
      "epoch 77, loss 0.08130504935979843\n",
      "epoch 78, loss 0.0803971141576767\n",
      "epoch 79, loss 0.07949931919574738\n",
      "epoch 80, loss 0.0786115825176239\n",
      "epoch 81, loss 0.07773381471633911\n",
      "epoch 82, loss 0.07686575502157211\n",
      "epoch 83, loss 0.07600736618041992\n",
      "epoch 84, loss 0.07515859603881836\n",
      "epoch 85, loss 0.07431929558515549\n",
      "epoch 86, loss 0.07348942011594772\n",
      "epoch 87, loss 0.07266876101493835\n",
      "epoch 88, loss 0.0718572735786438\n",
      "epoch 89, loss 0.0710548460483551\n",
      "epoch 90, loss 0.0702613890171051\n",
      "epoch 91, loss 0.06947682052850723\n",
      "epoch 92, loss 0.06870094686746597\n",
      "epoch 93, loss 0.0679338201880455\n",
      "epoch 94, loss 0.06717514991760254\n",
      "epoch 95, loss 0.06642506271600723\n",
      "epoch 96, loss 0.0656832754611969\n",
      "epoch 97, loss 0.06494976580142975\n",
      "epoch 98, loss 0.06422457098960876\n",
      "epoch 99, loss 0.06350741535425186\n",
      "epoch 100, loss 0.06279821693897247\n"
     ]
    }
   ],
   "source": [
    "import torch\n",
    "import torch.nn as nn\n",
    "import numpy as np\n",
    "\n",
    "'''\n",
    "STEP 1: CREATE MODEL CLASS\n",
    "'''\n",
    "class LinearRegressionModel(nn.Module):\n",
    "    def __init__(self, input_dim, output_dim):\n",
    "        super(LinearRegressionModel, self).__init__()\n",
    "        self.linear = nn.Linear(input_dim, output_dim)  \n",
    "    \n",
    "    def forward(self, x):\n",
    "        out = self.linear(x)\n",
    "        return out\n",
    "\n",
    "'''\n",
    "STEP 2: INSTANTIATE MODEL CLASS\n",
    "'''\n",
    "input_dim = 1\n",
    "output_dim = 1\n",
    "\n",
    "model = LinearRegressionModel(input_dim, output_dim)\n",
    "\n",
    "\n",
    "#######################\n",
    "#  USE GPU FOR MODEL  #\n",
    "#######################\n",
    "\n",
    "device = torch.device(\"cuda:0\" if torch.cuda.is_available() else \"cpu\")\n",
    "model.to(device)\n",
    "\n",
    "'''\n",
    "STEP 3: INSTANTIATE LOSS CLASS\n",
    "'''\n",
    "\n",
    "criterion = nn.MSELoss()\n",
    "\n",
    "'''\n",
    "STEP 4: INSTANTIATE OPTIMIZER CLASS\n",
    "'''\n",
    "\n",
    "learning_rate = 0.01\n",
    "\n",
    "optimizer = torch.optim.SGD(model.parameters(), lr=learning_rate)\n",
    "\n",
    "'''\n",
    "STEP 5: TRAIN THE MODEL\n",
    "'''\n",
    "epochs = 100\n",
    "for epoch in range(epochs):\n",
    "    epoch += 1\n",
    "    # Convert numpy array to torch Variable\n",
    "    \n",
    "    #######################\n",
    "    #  USE GPU FOR MODEL  #\n",
    "    #######################\n",
    "    inputs = torch.from_numpy(x_train).to(device)\n",
    "    labels = torch.from_numpy(y_train).to(device)\n",
    "    \n",
    "    # Clear gradients w.r.t. parameters\n",
    "    optimizer.zero_grad() \n",
    "    \n",
    "    # Forward to get output\n",
    "    outputs = model(inputs)\n",
    "    \n",
    "    # Calculate Loss\n",
    "    loss = criterion(outputs, labels)\n",
    "    \n",
    "    # Getting gradients w.r.t. parameters\n",
    "    loss.backward()\n",
    "    \n",
    "    # Updating parameters\n",
    "    optimizer.step()\n",
    "    \n",
    "    # Logging\n",
    "    print('epoch {}, loss {}'.format(epoch, loss.item()))"
   ]
  },
  {
   "cell_type": "markdown",
   "metadata": {},
   "source": [
    "# Summary"
   ]
  },
  {
   "cell_type": "markdown",
   "metadata": {},
   "source": [
    "- Simple **linear regression basics**\n",
    "    - $y = Ax + B$\n",
    "    - $y = 2x + 1$\n",
    "- **Example** of simple linear regression\n",
    "- **Aim** of linear regression\n",
    "    - Minimizing distance between the points and the line\n",
    "        - Calculate \"distance\" through `MSE`\n",
    "        - Calculate `gradients`\n",
    "        - Update parameters with `parameters = parameters - learning_rate * gradients`\n",
    "        - Slowly update parameters $A$ and $B$ model the linear relationship between $y$ and $x$ of the form $y = 2x + 1$\n",
    "- Built a linear regression **model** in **CPU and GPU**\n",
    "    - Step 1: Create Model Class\n",
    "    - Step 2: Instantiate Model Class\n",
    "    - Step 3: Instantiate Loss Class\n",
    "    - Step 4: Instantiate Optimizer Class\n",
    "    - Step 5: Train Model\n",
    "- Important things to be on **GPU**\n",
    "    - `model`\n",
    "    - `tensors with gradients`\n",
    "- How to bring to **GPU**?\n",
    "    - `model_name.cuda()`\n",
    "    - `variable_name.cuda()`"
   ]
  }
 ],
 "metadata": {
  "anaconda-cloud": {},
  "kernelspec": {
   "display_name": "dl",
   "language": "python",
   "name": "dl"
  },
  "language_info": {
   "codemirror_mode": {
    "name": "ipython",
    "version": 3
   },
   "file_extension": ".py",
   "mimetype": "text/x-python",
   "name": "python",
   "nbconvert_exporter": "python",
   "pygments_lexer": "ipython3",
   "version": "3.10.6"
  },
  "vscode": {
   "interpreter": {
    "hash": "916dbcbb3f70747c44a77c7bcd40155683ae19c65e1c03b4aa3499c5328201f1"
   }
  }
 },
 "nbformat": 4,
 "nbformat_minor": 1
}
